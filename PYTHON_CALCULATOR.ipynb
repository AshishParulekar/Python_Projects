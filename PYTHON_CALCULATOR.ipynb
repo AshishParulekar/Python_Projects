{
 "cells": [
  {
   "cell_type": "markdown",
   "id": "9970c978",
   "metadata": {},
   "source": [
    "# CALCULATOR"
   ]
  },
  {
   "cell_type": "code",
   "execution_count": 13,
   "id": "12b8a322",
   "metadata": {},
   "outputs": [
    {
     "name": "stdout",
     "output_type": "stream",
     "text": [
      "15\n",
      "Select_Opertion:=['+','-','*','/','%','=']+\n",
      "100\n",
      "115\n",
      "Select_Opertion:=['+','-','*','/','%','=']=\n",
      "115\n"
     ]
    }
   ],
   "source": [
    "A=int(input( ))\n",
    "T=True\n",
    "while(True):\n",
    "    process=input(\"Select_Opertion:=['+','-','*','/','%','=']\")\n",
    "    D=['+','-','*','/','%','=']\n",
    "    while(process not in D):\n",
    "        print('Please Enter a Correct Airthmetic Operation')\n",
    "        process=input(\"Select_Opertion:=['+','-','*','/','%','=']\")\n",
    "    while(process in D):\n",
    "        B=int(input( ))\n",
    "        if(process=='+'):     \n",
    "            ADD=A+B\n",
    "            A=ADD\n",
    "            print(ADD)\n",
    "        elif(process=='-'):\n",
    "            minus=A-B\n",
    "            A=minus\n",
    "            print(minus)\n",
    "        elif(process=='*'):     \n",
    "            multi=A*B\n",
    "            A=multi\n",
    "            print(A)\n",
    "        elif(process=='/'):     \n",
    "            multi=A/B\n",
    "            A=multi\n",
    "            print(A)\n",
    "        elif(process=='%'):     \n",
    "            multi=A%B \n",
    "            A=multi\n",
    "            print(A)\n",
    "        process=input(\"Select_Opertion:=['+','-','*','/','%','=']\")\n",
    "        if(process=='='):\n",
    "            break\n",
    "    print(A)        \n",
    "    if(process=='='):\n",
    "        break    "
   ]
  },
  {
   "cell_type": "code",
   "execution_count": null,
   "id": "b9f75500",
   "metadata": {},
   "outputs": [],
   "source": [
    "\n"
   ]
  }
 ],
 "metadata": {
  "kernelspec": {
   "display_name": "Python 3 (ipykernel)",
   "language": "python",
   "name": "python3"
  },
  "language_info": {
   "codemirror_mode": {
    "name": "ipython",
    "version": 3
   },
   "file_extension": ".py",
   "mimetype": "text/x-python",
   "name": "python",
   "nbconvert_exporter": "python",
   "pygments_lexer": "ipython3",
   "version": "3.9.7"
  }
 },
 "nbformat": 4,
 "nbformat_minor": 5
}
